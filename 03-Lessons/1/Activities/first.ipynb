{
 "cells": [
  {
   "cell_type": "code",
   "execution_count": 1,
   "metadata": {},
   "outputs": [
    {
     "output_type": "stream",
     "name": "stdout",
     "text": [
      "hello world!\n"
     ]
    }
   ],
   "source": [
    "print(\"hello world!\")"
   ]
  },
  {
   "cell_type": "code",
   "execution_count": 2,
   "metadata": {},
   "outputs": [
    {
     "output_type": "stream",
     "name": "stdout",
     "text": [
      "Nick is a professional Frankfurter\n"
     ]
    }
   ],
   "source": [
    "# Creates a variable with a string \"Frankfurter\"\n",
    "title = \"Frankfurter\"\n",
    "\n",
    "# Creates a variable with an integer 80\n",
    "years = 80\n",
    "\n",
    "# Creates a variable with the boolean value of True\n",
    "expert_status = True\n",
    "\n",
    "# Prints a statement adding the variable\n",
    "print(\"Nick is a professional \" + title)"
   ]
  },
  {
   "cell_type": "code",
   "execution_count": 5,
   "metadata": {},
   "outputs": [
    {
     "output_type": "stream",
     "name": "stdout",
     "text": [
      "i love you\n"
     ]
    }
   ],
   "source": [
    "print(\"i love you\")\n"
   ]
  },
  {
   "cell_type": "code",
   "execution_count": null,
   "metadata": {},
   "outputs": [],
   "source": []
  }
 ],
 "metadata": {
  "kernelspec": {
   "name": "python376jvsc74a57bd0cf97baa4dd5f92678966ef7d807ed10c287594f59ad652e48d0e32acad9661ad",
   "display_name": "Python 3.7.6 64-bit"
  },
  "language_info": {
   "codemirror_mode": {
    "name": "ipython",
    "version": 3
   },
   "file_extension": ".py",
   "mimetype": "text/x-python",
   "name": "python",
   "nbconvert_exporter": "python",
   "pygments_lexer": "ipython3",
   "version": "3.7.6"
  },
  "metadata": {
   "interpreter": {
    "hash": "cf97baa4dd5f92678966ef7d807ed10c287594f59ad652e48d0e32acad9661ad"
   }
  }
 },
 "nbformat": 4,
 "nbformat_minor": 4
}